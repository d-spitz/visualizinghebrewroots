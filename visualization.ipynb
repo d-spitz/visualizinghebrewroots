{
 "cells": [
  {
   "cell_type": "code",
   "execution_count": null,
   "metadata": {},
   "outputs": [],
   "source": [
    "import pandas as pd\n",
    "import ast\n",
    "# Specify the file path and encoding\n",
    "file_path = 'hebrew_verbs.csv'\n",
    "opath = 'hebrew_verbs_agg.csv'\n",
    "\n",
    "# Read the CSV file into a Pandas DataFrame\n",
    "df = pd.read_csv(file_path)\n",
    "\n",
    "# filter by roots of len 3, pa'al, and part of speech\n",
    "df['Root'] = df['Root'].apply(ast.literal_eval)\n",
    "df = df[df['Root'].apply(lambda x: len(x) == 3)]\n",
    "df = df[df['Binyan'].apply(lambda x: x == \"pa'al\")]\n",
    "df = df[df['Part of speech'].apply(lambda x: x == \"Verb\")]"
   ]
  },
  {
   "cell_type": "code",
   "execution_count": null,
   "metadata": {},
   "outputs": [],
   "source": [
    "def replace_final_form(hebrew_chars):\n",
    "    # Define mapping of normal form characters to their final forms\n",
    "    # reversed due to hebrew direction\n",
    "    final_form_mapping = {\n",
    "        \"ץ\": \"צ\",\n",
    "        \"ף\": \"פ\",\n",
    "        \"ן\": \"נ\",\n",
    "        \"ם\": \"מ\",\n",
    "        \"ך\": \"כ\"\n",
    "    }\n",
    "    \n",
    "    # Replace final forms in the list\n",
    "    return ''.join([final_form_mapping.get(char, char) for char in hebrew_chars])\n",
    "\n"
   ]
  },
  {
   "cell_type": "code",
   "execution_count": null,
   "metadata": {},
   "outputs": [],
   "source": [
    "import networkx as nx\n",
    "\n",
    "G = nx.Graph()\n",
    "\n",
    "for index, row in df.iterrows():\n",
    "    root = ''.join(row['Root'])\n",
    "    word = row['Word (he)']\n",
    "    meaning = row['Meaning']\n",
    "        \n",
    "    G.add_node(root, title=meaning, word=word)\n",
    "    "
   ]
  },
  {
   "cell_type": "code",
   "execution_count": null,
   "metadata": {},
   "outputs": [],
   "source": [
    "import itertools\n",
    "from Levenshtein import distance\n",
    "\n",
    "for n , m in itertools.combinations(G.nodes(), 2):\n",
    "    # dist = distance(replace_final_form(n) , replace_final_form(m))\n",
    "    # if dist <= 1:\n",
    "    #     G.add_edge(n, m)\n",
    "    if set(replace_final_form(n)) == set(replace_final_form(m)):\n",
    "        G.add_edge(n, m)\n"
   ]
  },
  {
   "cell_type": "code",
   "execution_count": null,
   "metadata": {},
   "outputs": [],
   "source": [
    "nx.write_gexf(G, \"roots_verb_paal_3char.gexf\")"
   ]
  },
  {
   "cell_type": "code",
   "execution_count": null,
   "metadata": {},
   "outputs": [],
   "source": [
    "from pyvis.network import Network\n",
    "\n",
    "# Create a new pyvis network\n",
    "net = Network(notebook=True, bgcolor=\"#222222\", font_color=\"white\", height=\"100vh\")\n",
    "\n",
    "# Load the graph from the GEXF file\n",
    "# G = nx.read_gexf(\"roots_verb_paal_3char.gexf\")\n",
    "\n",
    "# filter degree\n",
    "\n",
    "nonzero_degree_nodes = [node for node, degree in G.degree if degree != 0]\n",
    "\n",
    "# Create a new graph with only nodes of nonzero degree\n",
    "G_filtered = G.subgraph(nonzero_degree_nodes)\n",
    "\n",
    "net.from_nx(G_filtered)\n",
    "\n",
    "\n",
    "\n",
    "# Set some options for the network\n",
    "net.options = {\n",
    "    \"nodes\": {\n",
    "        \"font\": {\n",
    "            \"size\": 36,\n",
    "            \"face\": \"tahoma\"\n",
    "        },\n",
    "        \"shape\": \"dot\",\n",
    "        \"size\": 10,\n",
    "        \"color\": {\n",
    "            \"border\": \"#2B7CE9\",  \n",
    "            \"background\": \"#666\", \n",
    "            \"highlight\": {\n",
    "                \"border\": \"#2B7CE9\",  \n",
    "                \"background\": \"#848484\" \n",
    "            }\n",
    "        },\n",
    "        \"shadow\": {\n",
    "            \"enabled\": True,\n",
    "            \"size\": 15\n",
    "        },\n",
    "        \"title\": \"meaning\"  # Hover attribute to display semantic meaning\n",
    "    },\n",
    "    \"edges\": {\n",
    "        \"color\": {\n",
    "            \"color\": \"#ccc\", \n",
    "            \"highlight\": \"#848484\" \n",
    "        }\n",
    "    },\n",
    "    \"interaction\": {\n",
    "        \"hover\": True,\n",
    "        \"navigationButtons\": True,\n",
    "        \"zoomView\": True,\n",
    "        \"dragView\": True\n",
    "    },\n",
    "    \"physics\": {\n",
    "        \"enabled\": True\n",
    "    },\n",
    "}\n",
    "\n",
    "# Show the network\n",
    "net.show(\"network.html\")"
   ]
  }
 ],
 "metadata": {
  "kernelspec": {
   "display_name": "venv",
   "language": "python",
   "name": "python3"
  },
  "language_info": {
   "codemirror_mode": {
    "name": "ipython",
    "version": 3
   },
   "file_extension": ".py",
   "mimetype": "text/x-python",
   "name": "python",
   "nbconvert_exporter": "python",
   "pygments_lexer": "ipython3",
   "version": "3.10.12"
  }
 },
 "nbformat": 4,
 "nbformat_minor": 2
}
