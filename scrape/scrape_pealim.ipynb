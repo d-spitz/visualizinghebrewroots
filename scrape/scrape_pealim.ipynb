{
 "cells": [
  {
   "cell_type": "code",
   "execution_count": null,
   "metadata": {},
   "outputs": [],
   "source": [
    "import json\n",
    "from selenium import webdriver\n",
    "from selenium.webdriver.common.by import By\n",
    "from selenium.webdriver.firefox.options import Options\n",
    "import time\n",
    "\n",
    "start_page = 1\n",
    "end_page = 608\n",
    "\n",
    "# https://symbl.cc/en/unicode/table/#hebrew\n",
    "def is_hebrew_cons(char):\n",
    "    return '\\u05D0' <= char <= '\\u05EA'\n",
    "\n",
    "def process_hebrew_string(hebrew_string):\n",
    "    return tuple([c for c in hebrew_string if is_hebrew_cons(c)])\n",
    "\n",
    "def scrape_hebrew_roots(base_url):\n",
    "    options = Options()\n",
    "    options.headless = True\n",
    "\n",
    "\n",
    "    # Disable loading of images\n",
    "    options.set_preference('permissions.default.image', 2)\n",
    "\n",
    "    # Disable Google Analytics\n",
    "    options.set_preference('network.cookie.cookieBehavior', 2)\n",
    "    options.set_preference('browser.privatebrowsing.autostart', True)\n",
    "\n",
    "    driver = webdriver.Firefox(options=options)\n",
    "\n",
    "    table_data = []\n",
    "\n",
    "    try:\n",
    "        for pg in range(start_page, end_page + 1):\n",
    "            url = f\"{base_url}{pg}\"\n",
    "            driver.get(url)\n",
    "\n",
    "            rows = driver.find_elements(By.XPATH, \"//table[@class='table table-hover dict-table-t']//tr\")\n",
    "\n",
    "            for row in rows:\n",
    "                # Extract text from all cells in the row\n",
    "                row_data = [cell.text for cell in row.find_elements(By.XPATH, \"./td\")]\n",
    "\n",
    "                if len(row_data) >= 2:\n",
    "                    row_data[1] = process_hebrew_string(row_data[1])\n",
    "                \n",
    "                # Append the row data to the table_data list\n",
    "                table_data.append(row_data)\n",
    "\n",
    "            # print(pg)\n",
    "            time.sleep(0.1)\n",
    "    except Exception as e:\n",
    "        print(f\"An error occurred: {e}\")\n",
    "    finally:\n",
    "        driver.quit()\n",
    "\n",
    "    return [ t for t in table_data if t]    "
   ]
  },
  {
   "cell_type": "code",
   "execution_count": null,
   "metadata": {},
   "outputs": [],
   "source": [
    "base_url = \"https://www.pealim.com/dict/?pos=all&num-radicals=all&page=\"\n",
    "\n",
    "hebrew_roots = scrape_hebrew_roots(base_url)\n",
    "\n",
    "with open(\"hebrew_roots.json\", \"w\", encoding=\"utf-8\") as json_file:\n",
    "    json.dump(hebrew_roots, json_file, ensure_ascii=False, indent=4)"
   ]
  },
  {
   "cell_type": "code",
   "execution_count": null,
   "metadata": {},
   "outputs": [],
   "source": [
    "with open('hebrew_roots.json', 'r', encoding='utf-8') as file:\n",
    "    data = json.load(file)\n",
    "\n",
    "newdata = []\n",
    "for r in data:\n",
    "    splitword = r[0].splitlines()\n",
    "    splitpos = r[2].split(' – ')\n",
    "    newdata.append(splitword + [r[1]] + splitpos + r[3:])\n",
    "\n",
    "print(len(data))\n",
    "\n",
    "with open(\"hebrew_roots_postproc.json\", \"w\", encoding=\"utf-8\") as json_file:\n",
    "    json.dump(newdata, json_file, ensure_ascii=False, indent=4)"
   ]
  },
  {
   "cell_type": "code",
   "execution_count": 2,
   "metadata": {},
   "outputs": [],
   "source": [
    "import pandas as pd\n",
    "import json\n",
    "\n",
    "with open('hebrew_roots_postproc.json', 'r', encoding='utf-8') as file:\n",
    "    data = json.load(file)\n",
    "\n",
    "df = pd.DataFrame(data)\n",
    "\n",
    "column_labels = [\"Word (he)\", \"Word (en)\", \"Root\", \"Part of speech\", \"Binyan\", \"Meaning\"]\n",
    "df.columns = column_labels\n",
    "\n",
    "df.to_csv(\"../hebrew_dict/hebrew.csv\", index=False)"
   ]
  }
 ],
 "metadata": {
  "kernelspec": {
   "display_name": "venv",
   "language": "python",
   "name": "python3"
  },
  "language_info": {
   "codemirror_mode": {
    "name": "ipython",
    "version": 3
   },
   "file_extension": ".py",
   "mimetype": "text/x-python",
   "name": "python",
   "nbconvert_exporter": "python",
   "pygments_lexer": "ipython3",
   "version": "3.10.12"
  }
 },
 "nbformat": 4,
 "nbformat_minor": 2
}
